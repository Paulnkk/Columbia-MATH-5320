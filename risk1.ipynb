{
 "cells": [
  {
   "cell_type": "code",
   "execution_count": 1,
   "id": "3d344357",
   "metadata": {},
   "outputs": [],
   "source": [
    "import  pandas  as  pd\n",
    "import  numpy  as  np"
   ]
  },
  {
   "cell_type": "code",
   "execution_count": 6,
   "id": "6da7dfc4",
   "metadata": {},
   "outputs": [],
   "source": [
    "####question  3\n",
    "\n",
    "# Build BS model for call option\n",
    "from  scipy.stats  import  norm\n",
    "N  =  norm.cdf\n",
    "\n",
    "def  BS_model_CALL(S,K,T,r,sigma):\n",
    "        d1  =  (np.log(S/K)  +  (r  +  sigma**2/2)*T)  /  (sigma*np.sqrt(T))\n",
    "        d2  =  d1  -  sigma  *  np.sqrt(T)\n",
    "        return  S  *  N(d1)  -  K  *  np.exp(-r*T)*  N(d2)"
   ]
  },
  {
   "cell_type": "code",
   "execution_count": 10,
   "id": "8c87efb4",
   "metadata": {},
   "outputs": [],
   "source": [
    "# a.) \n",
    "\n",
    "# Current value of position: 1200* 21.50 = 25800\n",
    "# Sensitivity 1200 "
   ]
  },
  {
   "cell_type": "code",
   "execution_count": 11,
   "id": "ce542fd5",
   "metadata": {},
   "outputs": [
    {
     "data": {
      "text/plain": [
       "1.9331939286114324"
      ]
     },
     "execution_count": 11,
     "metadata": {},
     "output_type": "execute_result"
    }
   ],
   "source": [
    "# Calc BS model for specific parameters \n",
    "\n",
    "S  =  21.50\n",
    "K  =  24\n",
    "T  =  1.5\n",
    "r  =  0.021\n",
    "sigma  =  0.25\n",
    "c0  =  BS_model_CALL(S,K,T,r,sigma)\n",
    "c0"
   ]
  },
  {
   "cell_type": "code",
   "execution_count": 12,
   "id": "8f456d61",
   "metadata": {},
   "outputs": [
    {
     "data": {
      "text/plain": [
       "0.4588665086854015"
      ]
     },
     "execution_count": 12,
     "metadata": {},
     "output_type": "execute_result"
    }
   ],
   "source": [
    "# Calculate BS Delta as Derivative of BS eq with respect to stock price S\n",
    "\n",
    "def  delta(S,K,T,r,sigma):\n",
    "    d1  =  (np.log(S/K)  +  (r  +  sigma**2/2)*T)  /  (sigma*np.sqrt(T))\n",
    "    return  N(d1)\n",
    "delta  =  delta(S,K,T,r,sigma)\n",
    "delta"
   ]
  },
  {
   "cell_type": "code",
   "execution_count": 13,
   "id": "39dab3c7",
   "metadata": {},
   "outputs": [
    {
     "data": {
      "text/plain": [
       "2615.1396479944865"
      ]
     },
     "execution_count": 13,
     "metadata": {},
     "output_type": "execute_result"
    }
   ],
   "source": [
    "# b.)\n",
    "\n",
    "1200/delta\n"
   ]
  },
  {
   "cell_type": "code",
   "execution_count": 14,
   "id": "721e3177",
   "metadata": {},
   "outputs": [
    {
     "data": {
      "text/plain": [
       "5057.235317247507"
      ]
     },
     "execution_count": 14,
     "metadata": {},
     "output_type": "execute_result"
    }
   ],
   "source": [
    "# c.)\n",
    "\n",
    "# positions: 2616\n",
    "# total market value: 2616 * c0 = 5057.23531\n",
    "# total value of portfolio: "
   ]
  },
  {
   "cell_type": "code",
   "execution_count": null,
   "id": "2e6abf93",
   "metadata": {},
   "outputs": [],
   "source": [
    "# d.)\n",
    "\n",
    "# Calculate win and loss for Call option\n",
    "c_up  =  BS_model_CALL(S*1.1,K,T,r,sigma)\n",
    "c_down  =  BS_model_CALL(S*0.9,K,T,r,sigma)\n",
    "gain_up  =  25800*0.1+(c0-c_up)*2781\n",
    "gain_down  =  -25800*0.1+(c0-c_down)*2781\n",
    "gain_up,gain_down\n"
   ]
  },
  {
   "cell_type": "code",
   "execution_count": 22,
   "id": "676d282a",
   "metadata": {},
   "outputs": [],
   "source": [
    "# e.)\n",
    "# risk of port with options and without option\n",
    "# Initially with the pure stock portfolio we had a sensitivity of around 1200, with the call option portfolio\n",
    "# we can have a sensitivity with 1200 options of 1200*delta_option = 1200 * 0.4588 = 550.56 \n",
    "#(change in position with respect to stock price), so we were able to reduce our sensitivity."
   ]
  },
  {
   "cell_type": "code",
   "execution_count": 20,
   "id": "00c21fb7",
   "metadata": {},
   "outputs": [
    {
     "data": {
      "text/html": [
       "<div>\n",
       "<style scoped>\n",
       "    .dataframe tbody tr th:only-of-type {\n",
       "        vertical-align: middle;\n",
       "    }\n",
       "\n",
       "    .dataframe tbody tr th {\n",
       "        vertical-align: top;\n",
       "    }\n",
       "\n",
       "    .dataframe thead th {\n",
       "        text-align: right;\n",
       "    }\n",
       "</style>\n",
       "<table border=\"1\" class=\"dataframe\">\n",
       "  <thead>\n",
       "    <tr style=\"text-align: right;\">\n",
       "      <th></th>\n",
       "      <th>Apple</th>\n",
       "      <th>IBM</th>\n",
       "      <th>portfolio</th>\n",
       "    </tr>\n",
       "  </thead>\n",
       "  <tbody>\n",
       "    <tr>\n",
       "      <th>0</th>\n",
       "      <td>106.54</td>\n",
       "      <td>163.60</td>\n",
       "      <td>32341.0</td>\n",
       "    </tr>\n",
       "    <tr>\n",
       "      <th>1</th>\n",
       "      <td>105.11</td>\n",
       "      <td>160.87</td>\n",
       "      <td>31853.5</td>\n",
       "    </tr>\n",
       "    <tr>\n",
       "      <th>2</th>\n",
       "      <td>105.22</td>\n",
       "      <td>162.08</td>\n",
       "      <td>31991.0</td>\n",
       "    </tr>\n",
       "    <tr>\n",
       "      <th>3</th>\n",
       "      <td>104.83</td>\n",
       "      <td>162.18</td>\n",
       "      <td>31942.5</td>\n",
       "    </tr>\n",
       "    <tr>\n",
       "      <th>4</th>\n",
       "      <td>102.99</td>\n",
       "      <td>161.79</td>\n",
       "      <td>31627.5</td>\n",
       "    </tr>\n",
       "    <tr>\n",
       "      <th>5</th>\n",
       "      <td>101.47</td>\n",
       "      <td>163.23</td>\n",
       "      <td>31543.5</td>\n",
       "    </tr>\n",
       "    <tr>\n",
       "      <th>6</th>\n",
       "      <td>99.76</td>\n",
       "      <td>169.10</td>\n",
       "      <td>31874.0</td>\n",
       "    </tr>\n",
       "    <tr>\n",
       "      <th>7</th>\n",
       "      <td>97.67</td>\n",
       "      <td>182.05</td>\n",
       "      <td>32855.5</td>\n",
       "    </tr>\n",
       "    <tr>\n",
       "      <th>8</th>\n",
       "      <td>96.26</td>\n",
       "      <td>179.84</td>\n",
       "      <td>32423.0</td>\n",
       "    </tr>\n",
       "    <tr>\n",
       "      <th>9</th>\n",
       "      <td>97.54</td>\n",
       "      <td>181.35</td>\n",
       "      <td>32766.0</td>\n",
       "    </tr>\n",
       "  </tbody>\n",
       "</table>\n",
       "</div>"
      ],
      "text/plain": [
       "    Apple     IBM  portfolio\n",
       "0  106.54  163.60    32341.0\n",
       "1  105.11  160.87    31853.5\n",
       "2  105.22  162.08    31991.0\n",
       "3  104.83  162.18    31942.5\n",
       "4  102.99  161.79    31627.5\n",
       "5  101.47  163.23    31543.5\n",
       "6   99.76  169.10    31874.0\n",
       "7   97.67  182.05    32855.5\n",
       "8   96.26  179.84    32423.0\n",
       "9   97.54  181.35    32766.0"
      ]
     },
     "execution_count": 20,
     "metadata": {},
     "output_type": "execute_result"
    }
   ],
   "source": [
    "###### question 4\n",
    "d1  =  {'Apple':  [106.54,  105.11,105.22,104.83,102.99,101.47,99.76,97.67,96.26,97.54],\n",
    "        'IBM':  [163.60,  160.87,162.08,162.18,161.79,163.23,169.10,182.05,179.84,181.35]}\n",
    "\n",
    "df1  =  pd.DataFrame(data=d1)\n",
    "df1['portfolio']  =  150*df1['Apple']+100*df1['IBM']\n",
    "df1"
   ]
  },
  {
   "cell_type": "code",
   "execution_count": 21,
   "id": "80e00db5",
   "metadata": {},
   "outputs": [
    {
     "data": {
      "text/html": [
       "<div>\n",
       "<style scoped>\n",
       "    .dataframe tbody tr th:only-of-type {\n",
       "        vertical-align: middle;\n",
       "    }\n",
       "\n",
       "    .dataframe tbody tr th {\n",
       "        vertical-align: top;\n",
       "    }\n",
       "\n",
       "    .dataframe thead th {\n",
       "        text-align: right;\n",
       "    }\n",
       "</style>\n",
       "<table border=\"1\" class=\"dataframe\">\n",
       "  <thead>\n",
       "    <tr style=\"text-align: right;\">\n",
       "      <th></th>\n",
       "      <th>Apple</th>\n",
       "      <th>IBM</th>\n",
       "      <th>portfolio</th>\n",
       "      <th>portfolio_loss</th>\n",
       "      <th>sum</th>\n",
       "      <th>count</th>\n",
       "      <th>es</th>\n",
       "    </tr>\n",
       "  </thead>\n",
       "  <tbody>\n",
       "    <tr>\n",
       "      <th>5</th>\n",
       "      <td>101.47</td>\n",
       "      <td>163.23</td>\n",
       "      <td>31543.5</td>\n",
       "      <td>493.5</td>\n",
       "      <td>493.5</td>\n",
       "      <td>1</td>\n",
       "      <td>493.500000</td>\n",
       "    </tr>\n",
       "    <tr>\n",
       "      <th>4</th>\n",
       "      <td>102.99</td>\n",
       "      <td>161.79</td>\n",
       "      <td>31627.5</td>\n",
       "      <td>409.5</td>\n",
       "      <td>903.0</td>\n",
       "      <td>2</td>\n",
       "      <td>451.500000</td>\n",
       "    </tr>\n",
       "    <tr>\n",
       "      <th>1</th>\n",
       "      <td>105.11</td>\n",
       "      <td>160.87</td>\n",
       "      <td>31853.5</td>\n",
       "      <td>183.5</td>\n",
       "      <td>1086.5</td>\n",
       "      <td>3</td>\n",
       "      <td>362.166667</td>\n",
       "    </tr>\n",
       "    <tr>\n",
       "      <th>6</th>\n",
       "      <td>99.76</td>\n",
       "      <td>169.10</td>\n",
       "      <td>31874.0</td>\n",
       "      <td>163.0</td>\n",
       "      <td>1249.5</td>\n",
       "      <td>4</td>\n",
       "      <td>312.375000</td>\n",
       "    </tr>\n",
       "    <tr>\n",
       "      <th>3</th>\n",
       "      <td>104.83</td>\n",
       "      <td>162.18</td>\n",
       "      <td>31942.5</td>\n",
       "      <td>94.5</td>\n",
       "      <td>1344.0</td>\n",
       "      <td>5</td>\n",
       "      <td>268.800000</td>\n",
       "    </tr>\n",
       "    <tr>\n",
       "      <th>2</th>\n",
       "      <td>105.22</td>\n",
       "      <td>162.08</td>\n",
       "      <td>31991.0</td>\n",
       "      <td>46.0</td>\n",
       "      <td>1390.0</td>\n",
       "      <td>6</td>\n",
       "      <td>231.666667</td>\n",
       "    </tr>\n",
       "    <tr>\n",
       "      <th>0</th>\n",
       "      <td>106.54</td>\n",
       "      <td>163.60</td>\n",
       "      <td>32341.0</td>\n",
       "      <td>-304.0</td>\n",
       "      <td>1086.0</td>\n",
       "      <td>7</td>\n",
       "      <td>155.142857</td>\n",
       "    </tr>\n",
       "    <tr>\n",
       "      <th>8</th>\n",
       "      <td>96.26</td>\n",
       "      <td>179.84</td>\n",
       "      <td>32423.0</td>\n",
       "      <td>-386.0</td>\n",
       "      <td>700.0</td>\n",
       "      <td>8</td>\n",
       "      <td>87.500000</td>\n",
       "    </tr>\n",
       "    <tr>\n",
       "      <th>9</th>\n",
       "      <td>97.54</td>\n",
       "      <td>181.35</td>\n",
       "      <td>32766.0</td>\n",
       "      <td>-729.0</td>\n",
       "      <td>-29.0</td>\n",
       "      <td>9</td>\n",
       "      <td>-3.222222</td>\n",
       "    </tr>\n",
       "    <tr>\n",
       "      <th>7</th>\n",
       "      <td>97.67</td>\n",
       "      <td>182.05</td>\n",
       "      <td>32855.5</td>\n",
       "      <td>-818.5</td>\n",
       "      <td>-847.5</td>\n",
       "      <td>10</td>\n",
       "      <td>-84.750000</td>\n",
       "    </tr>\n",
       "  </tbody>\n",
       "</table>\n",
       "</div>"
      ],
      "text/plain": [
       "    Apple     IBM  portfolio  portfolio_loss     sum  count          es\n",
       "5  101.47  163.23    31543.5           493.5   493.5      1  493.500000\n",
       "4  102.99  161.79    31627.5           409.5   903.0      2  451.500000\n",
       "1  105.11  160.87    31853.5           183.5  1086.5      3  362.166667\n",
       "6   99.76  169.10    31874.0           163.0  1249.5      4  312.375000\n",
       "3  104.83  162.18    31942.5            94.5  1344.0      5  268.800000\n",
       "2  105.22  162.08    31991.0            46.0  1390.0      6  231.666667\n",
       "0  106.54  163.60    32341.0          -304.0  1086.0      7  155.142857\n",
       "8   96.26  179.84    32423.0          -386.0   700.0      8   87.500000\n",
       "9   97.54  181.35    32766.0          -729.0   -29.0      9   -3.222222\n",
       "7   97.67  182.05    32855.5          -818.5  -847.5     10  -84.750000"
      ]
     },
     "execution_count": 21,
     "metadata": {},
     "output_type": "execute_result"
    }
   ],
   "source": [
    "# Calc VaR and Expected shortfall for 2 stock portfolio \n",
    "\n",
    "v0 =  103.82*150+164.64*100\n",
    "df1['portfolio_loss']=  v0 -  df1['portfolio']\n",
    "df1  =  df1.sort_values(by=['portfolio_loss'],  ascending=False)\n",
    "df1['sum']  =  df1['portfolio_loss'].cumsum()\n",
    "df1['count']  =  range(1,11)\n",
    "df1['ES']  =  df1['sum']/df1['count']\n",
    "df1\n",
    "# 90th VaR: 493.5, 80th percentile VaR: 409.5, 70th percentile VaR: 183.5, 60th percentile VaR: 163.0\n",
    "# 90th ES: 493.5, 80th percentile ES: 451.5, 70th percentile ES: 362.1667, 60th percentile ES: 312.375\n"
   ]
  },
  {
   "cell_type": "code",
   "execution_count": 15,
   "id": "fff2574f",
   "metadata": {},
   "outputs": [],
   "source": [
    "##### question 5\n",
    "v1 = np.exp(0.035/252)*24000\n",
    "v5  =  np.exp(0.035*5/252)*24000\n",
    "v252 = np.exp(0.035*252/252)*24000"
   ]
  },
  {
   "cell_type": "code",
   "execution_count": 16,
   "id": "c0d2bb8b",
   "metadata": {},
   "outputs": [],
   "source": [
    "# Calculate variance for GBM\n",
    "\n",
    "def variance_gbm(s0,mu,sigma,t):\n",
    "    var  =(s0**2)*(np.exp(t*sigma**2)-1)*(np.exp(2*mu*t))\n",
    "    return var"
   ]
  },
  {
   "cell_type": "code",
   "execution_count": 17,
   "id": "afdb01f5",
   "metadata": {},
   "outputs": [],
   "source": [
    "var1  =  variance_gbm(24000,0.035,0.25,1/252)\n",
    "var5  =  variance_gbm(24000,0.035,0.25,5/252)\n",
    "var252  =  variance_gbm(24000,0.035,0.25,1)"
   ]
  },
  {
   "cell_type": "code",
   "execution_count": 18,
   "id": "06b571d5",
   "metadata": {},
   "outputs": [],
   "source": [
    "from  scipy.stats  import  norm\n",
    "\n",
    "# VaR for p-quantile function \n",
    "def  VaR_p(s0,mu,sigma,t,p):\n",
    "    icdf  =  norm.ppf(1-p)\n",
    "    value1  =  sigma*(t**0.5)*icdf  +(mu-  sigma**2/2)*t\n",
    "    value  =  s0-s0*np.exp(value1)\n",
    "    return  value"
   ]
  },
  {
   "cell_type": "code",
   "execution_count": 19,
   "id": "0b464ed5",
   "metadata": {},
   "outputs": [
    {
     "data": {
      "text/plain": [
       "(613.3650890723329, 1348.974917913929, 8031.940853764261)"
      ]
     },
     "execution_count": 19,
     "metadata": {},
     "output_type": "execute_result"
    }
   ],
   "source": [
    "s0  =  24000\n",
    "mu  =  0.035\n",
    "sigma  =  0.25\n",
    "p  =  0.95\n",
    "var_1  =  VaR_p(s0,mu,sigma,1/252,p)\n",
    "var_5  =  VaR_p(s0,mu,sigma,5/252,p)\n",
    "var_252  =  VaR_p(s0,mu,sigma,1,p)\n",
    "var_1,var_5,var_252"
   ]
  },
  {
   "cell_type": "code",
   "execution_count": null,
   "id": "ecd553c1",
   "metadata": {},
   "outputs": [],
   "source": []
  }
 ],
 "metadata": {
  "kernelspec": {
   "display_name": "Python 3 (ipykernel)",
   "language": "python",
   "name": "python3"
  },
  "language_info": {
   "codemirror_mode": {
    "name": "ipython",
    "version": 3
   },
   "file_extension": ".py",
   "mimetype": "text/x-python",
   "name": "python",
   "nbconvert_exporter": "python",
   "pygments_lexer": "ipython3",
   "version": "3.9.7"
  }
 },
 "nbformat": 4,
 "nbformat_minor": 5
}
