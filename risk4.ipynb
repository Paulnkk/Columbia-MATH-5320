{
 "cells": [
  {
   "cell_type": "code",
   "execution_count": 303,
   "id": "69ca7152",
   "metadata": {},
   "outputs": [],
   "source": [
    "import numpy as np\n",
    "import pandas as pd\n",
    "from scipy.stats import norm\n",
    "import datetime\n",
    "import matplotlib.pyplot as plt"
   ]
  },
  {
   "cell_type": "markdown",
   "id": "168eb279",
   "metadata": {},
   "source": [
    "# 1.)"
   ]
  },
  {
   "cell_type": "code",
   "execution_count": 304,
   "id": "cbbd1179",
   "metadata": {},
   "outputs": [],
   "source": [
    "# calc merton default probability with GBM distributed Assets \n",
    "\n",
    "def calc_pt(B, Vt, r, sigma, T, t):\n",
    "    \n",
    "    num = np.log(B / Vt) - (r - sigma**2 / 2) * (T - t)\n",
    "    denom = sigma * np.sqrt(T - t)\n",
    "    \n",
    "    prob = norm.cdf(num / denom)\n",
    "    \n",
    "    return prob "
   ]
  },
  {
   "cell_type": "code",
   "execution_count": 305,
   "id": "a1505451",
   "metadata": {},
   "outputs": [
    {
     "data": {
      "text/plain": [
       "0.44819026955711155"
      ]
     },
     "execution_count": 305,
     "metadata": {},
     "output_type": "execute_result"
    }
   ],
   "source": [
    "# a.)\n",
    "res = calc_pt(1000000, 1300000, 0.01, 0.3, 5, 0)\n",
    "res"
   ]
  },
  {
   "cell_type": "code",
   "execution_count": null,
   "id": "26e7c0c0",
   "metadata": {},
   "outputs": [],
   "source": [
    "# the real world default probability is the risk neutral default probability - risk premium\n",
    "# risk premium = expected asset return - risk free rate = 0.025 - 0.010 = 0.015\n",
    "# -> we calculated risk neutral default probability = 0.45 -> 0.45 - 0.015 = 0.435"
   ]
  },
  {
   "cell_type": "code",
   "execution_count": 306,
   "id": "9d18127b",
   "metadata": {},
   "outputs": [
    {
     "data": {
      "text/plain": [
       "0.03819704386724432"
      ]
     },
     "execution_count": 306,
     "metadata": {},
     "output_type": "execute_result"
    }
   ],
   "source": [
    "# b.)\n",
    "\n",
    "res1 = calc_pt(1000000, 1300000, 0.01, 0.3, 4, 0)\n",
    "res2 = calc_pt(1000000, 1300000, 0.01, 0.3, 3, 0)\n",
    "dif = res1 - res2\n",
    "dif"
   ]
  },
  {
   "cell_type": "markdown",
   "id": "aa50b341",
   "metadata": {},
   "source": [
    "# 2.)"
   ]
  },
  {
   "cell_type": "code",
   "execution_count": 307,
   "id": "d2c81f21",
   "metadata": {},
   "outputs": [],
   "source": [
    "################ RISK measures \n",
    "# var for gbm stock \n",
    "\n",
    "def VaR_gbm(s0, mu, sigma, t, p):\n",
    "    \n",
    "    icdf = norm.ppf(1-p)\n",
    "    v1 = sigma*(t**0.5)*icdf + (mu - (sigma**2)/2)*t\n",
    "    v = s0 - s0 * np.exp(v1)\n",
    "    \n",
    "    return v\n",
    "\n",
    "def calc_X(s0_x, mu_x, sigma_x, T_x, p_x):\n",
    "    \n",
    "    v_x = s0_x - VaR_gbm(s0_x, mu_x, sigma_x, T_x, p_x)\n",
    "    \n",
    "    return v_x\n",
    "\n",
    "def calc_d1(s0, mu, sigma, T, X):\n",
    "    \n",
    "    d1 = 1 / (sigma * np.sqrt(T)) * (np.log(s0 / X) + (mu + (sigma**2)/2)*T)\n",
    "    \n",
    "    return d1\n",
    "\n",
    "def ES_gbm(s0, mu, sigma, T, p):\n",
    "    \n",
    "    X = calc_X(s0, mu, sigma, T, p)\n",
    "    \n",
    "    d1 = calc_d1(s0, mu, sigma, T, X)\n",
    "    \n",
    "    ES = s0 - (1 / (1 - p)) * np.exp(mu * T) * s0 * (1 - norm.cdf(d1))\n",
    "    \n",
    "    return ES"
   ]
  },
  {
   "cell_type": "code",
   "execution_count": 308,
   "id": "f229c1ab",
   "metadata": {},
   "outputs": [],
   "source": [
    "ba = pd.read_csv('BA-bloomberg.csv')\n",
    "noc = pd.read_csv('NOC-bloomberg.csv')\n",
    "\n",
    "# transform string to datetime object, aufpassen mit den genauen definitionen der anteile: %m/%d/%Y -> Y für 2022, net 22\n",
    "\n",
    "ba['Dates'] = [datetime.datetime.strptime(d, '%m/%d/%Y') for d in ba[\"Dates\"]]\n",
    "noc['Dates'] = [datetime.datetime.strptime(d, '%m/%d/%Y') for d in noc[\"Dates\"]]"
   ]
  },
  {
   "cell_type": "code",
   "execution_count": 309,
   "id": "5e51b4bf",
   "metadata": {},
   "outputs": [],
   "source": [
    "# create port value for stocks \n",
    "\n",
    "ba['port_val'] = ba.PX_LAST * 134\n",
    "noc['port_val'] = noc.PX_LAST * 166\n",
    "\n",
    "ba['log_ret'] = np.log(ba.PX_LAST) - np.log(ba.PX_LAST.shift(-1))\n",
    "noc['log_ret'] = np.log(noc.PX_LAST) - np.log(noc.PX_LAST.shift(-1))\n",
    "\n",
    "ba['ret'] = ((ba.PX_LAST) - (ba.PX_LAST).shift(-1)) / (ba.PX_LAST).shift(-1)\n",
    "noc['ret'] = ((noc.PX_LAST) - (noc.PX_LAST).shift(-1)) / (noc.PX_LAST).shift(-1)"
   ]
  },
  {
   "cell_type": "code",
   "execution_count": 310,
   "id": "1798dc2a",
   "metadata": {},
   "outputs": [],
   "source": [
    "# port dataframe \n",
    "port = pd.DataFrame([ba.port_val, noc.port_val]).transpose()\n",
    "port['port_ges_0'] = ba.port_val + noc.port_val\n",
    "port['port_ges'] = np.log(port['port_ges_0']) - np.log(port['port_ges_0'].shift(-1))\n",
    "port['port_ges_1'] = ba.port_val + noc.port_val\n",
    "# calc log port returns \n",
    "port['port_ges_ret'] = ((port['port_ges_1']) - (port['port_ges_1']).shift(-1)) / (port['port_ges_1']).shift(-1)\n",
    "\n",
    "port['Dates'] = ba['Dates']\n",
    "\n",
    "# set index for rolling port\n",
    "port2 = port.set_index('Dates')\n",
    "port2 = port2.sort_index()\n",
    "# set index for rolling ba\n",
    "ba2 = ba.set_index('Dates')\n",
    "ba2 = ba2.sort_index()\n",
    "# set index for rolling ba\n",
    "noc2 = noc.set_index('Dates')\n",
    "noc2 = noc2.sort_index()"
   ]
  },
  {
   "cell_type": "code",
   "execution_count": 311,
   "id": "f5c1cea9",
   "metadata": {},
   "outputs": [
    {
     "name": "stderr",
     "output_type": "stream",
     "text": [
      "/var/folders/sn/xxr4rfmj23100534fjn99hv80000gn/T/ipykernel_75076/1636250746.py:5: SettingWithCopyWarning: \n",
      "A value is trying to be set on a copy of a slice from a DataFrame.\n",
      "Try using .loc[row_indexer,col_indexer] = value instead\n",
      "\n",
      "See the caveats in the documentation: https://pandas.pydata.org/pandas-docs/stable/user_guide/indexing.html#returning-a-view-versus-a-copy\n",
      "  port_sigma_new5['port_ges'] = port_sigma_new5['port_ges'] * np.sqrt(252)\n",
      "/var/folders/sn/xxr4rfmj23100534fjn99hv80000gn/T/ipykernel_75076/1636250746.py:6: SettingWithCopyWarning: \n",
      "A value is trying to be set on a copy of a slice from a DataFrame.\n",
      "Try using .loc[row_indexer,col_indexer] = value instead\n",
      "\n",
      "See the caveats in the documentation: https://pandas.pydata.org/pandas-docs/stable/user_guide/indexing.html#returning-a-view-versus-a-copy\n",
      "  port_sigma_new5['port_ges_ret'] = port_sigma_new5['port_ges_ret'] * np.sqrt(252)\n",
      "/var/folders/sn/xxr4rfmj23100534fjn99hv80000gn/T/ipykernel_75076/1636250746.py:13: SettingWithCopyWarning: \n",
      "A value is trying to be set on a copy of a slice from a DataFrame.\n",
      "Try using .loc[row_indexer,col_indexer] = value instead\n",
      "\n",
      "See the caveats in the documentation: https://pandas.pydata.org/pandas-docs/stable/user_guide/indexing.html#returning-a-view-versus-a-copy\n",
      "  port_mu_new5['port_ges'] = port_mu_new5['port_ges'] * 252 + 0.5 * (port_sigma_new5['port_ges']**2)\n",
      "/var/folders/sn/xxr4rfmj23100534fjn99hv80000gn/T/ipykernel_75076/1636250746.py:15: SettingWithCopyWarning: \n",
      "A value is trying to be set on a copy of a slice from a DataFrame.\n",
      "Try using .loc[row_indexer,col_indexer] = value instead\n",
      "\n",
      "See the caveats in the documentation: https://pandas.pydata.org/pandas-docs/stable/user_guide/indexing.html#returning-a-view-versus-a-copy\n",
      "  port_mu_new5['port_ges_ret'] = port_mu_new5['port_ges_ret'] * 252 + 0.5 * (port_sigma_new5['port_ges_ret']**2)\n",
      "/var/folders/sn/xxr4rfmj23100534fjn99hv80000gn/T/ipykernel_75076/1636250746.py:21: SettingWithCopyWarning: \n",
      "A value is trying to be set on a copy of a slice from a DataFrame.\n",
      "Try using .loc[row_indexer,col_indexer] = value instead\n",
      "\n",
      "See the caveats in the documentation: https://pandas.pydata.org/pandas-docs/stable/user_guide/indexing.html#returning-a-view-versus-a-copy\n",
      "  ba2_sigma_filter['log_ret'] = ba2_sigma_filter['log_ret'] * np.sqrt(252)\n",
      "/var/folders/sn/xxr4rfmj23100534fjn99hv80000gn/T/ipykernel_75076/1636250746.py:31: SettingWithCopyWarning: \n",
      "A value is trying to be set on a copy of a slice from a DataFrame.\n",
      "Try using .loc[row_indexer,col_indexer] = value instead\n",
      "\n",
      "See the caveats in the documentation: https://pandas.pydata.org/pandas-docs/stable/user_guide/indexing.html#returning-a-view-versus-a-copy\n",
      "  ba2_mean_filter['log_ret'] = ba2_mean_filter['log_ret'] * 252 + 0.5 * (ba2_mean_filter['log_ret']**2)\n",
      "/var/folders/sn/xxr4rfmj23100534fjn99hv80000gn/T/ipykernel_75076/1636250746.py:41: SettingWithCopyWarning: \n",
      "A value is trying to be set on a copy of a slice from a DataFrame.\n",
      "Try using .loc[row_indexer,col_indexer] = value instead\n",
      "\n",
      "See the caveats in the documentation: https://pandas.pydata.org/pandas-docs/stable/user_guide/indexing.html#returning-a-view-versus-a-copy\n",
      "  noc2_sigma_filter['log_ret'] = noc2_sigma_filter['log_ret'] * np.sqrt(252)\n",
      "/var/folders/sn/xxr4rfmj23100534fjn99hv80000gn/T/ipykernel_75076/1636250746.py:51: SettingWithCopyWarning: \n",
      "A value is trying to be set on a copy of a slice from a DataFrame.\n",
      "Try using .loc[row_indexer,col_indexer] = value instead\n",
      "\n",
      "See the caveats in the documentation: https://pandas.pydata.org/pandas-docs/stable/user_guide/indexing.html#returning-a-view-versus-a-copy\n",
      "  noc2_mean_filter['log_ret'] = noc2_mean_filter['log_ret'] * 252 + 0.5 * (noc2_mean_filter['log_ret']**2)\n"
     ]
    }
   ],
   "source": [
    "# calc port sd 5 year window\n",
    "port_sigma5 = port2.rolling('1825d').std().shift(1)\n",
    "port_sigma_new5 = port_sigma5[port_sigma5.index > '2002-10-26']\n",
    "# Adjust sd\n",
    "port_sigma_new5['port_ges'] = port_sigma_new5['port_ges'] * np.sqrt(252)\n",
    "port_sigma_new5['port_ges_ret'] = port_sigma_new5['port_ges_ret'] * np.sqrt(252)\n",
    "\n",
    "\n",
    "# calc port mean 5 year window \n",
    "port_mu5 = port2.rolling('1825d').mean().shift(1)\n",
    "port_mu_new5 = port_mu5[port_mu5.index > '2002-10-26']\n",
    "# Adjust mu\n",
    "port_mu_new5['port_ges'] = port_mu_new5['port_ges'] * 252 + 0.5 * (port_sigma_new5['port_ges']**2)\n",
    "# adjust absolute return\n",
    "port_mu_new5['port_ges_ret'] = port_mu_new5['port_ges_ret'] * 252 + 0.5 * (port_sigma_new5['port_ges_ret']**2)\n",
    "\n",
    "# calculate rolling sd for 5 year rolling BA\n",
    "ba2_sigma = ba2.rolling('1825d').std().shift(1)\n",
    "ba2_sigma_filter = ba2_sigma[ba2_sigma.index > '2002-10-26']\n",
    "# Adjust sigma\n",
    "ba2_sigma_filter['log_ret'] = ba2_sigma_filter['log_ret'] * np.sqrt(252)\n",
    "ba2_sigma_filter = ba2_sigma_filter.rename(columns={'log_ret': 'log_ret_sig'})\n",
    "# Adjust absolute return sigma\n",
    "ba2_sigma_filter['ret'] = ba2_sigma_filter['ret'] * np.sqrt(252)\n",
    "ba2_sigma_filter = ba2_sigma_filter.rename(columns={'ret': 'ret_sig'})\n",
    "\n",
    "# calculate rolling means for 5 year rolling BA\n",
    "ba2_mu = ba2.rolling('1825d').mean().shift(1)\n",
    "ba2_mean_filter = ba2_mu[ba2_mu.index > '2002-09-22']\n",
    "# Adjust mu\n",
    "ba2_mean_filter['log_ret'] = ba2_mean_filter['log_ret'] * 252 + 0.5 * (ba2_mean_filter['log_ret']**2)\n",
    "ba2_mean_filter = ba2_mean_filter.rename(columns={'log_ret': 'log_ret_mu'})\n",
    "# Adjust absolute return mu\n",
    "ba2_mean_filter['ret'] = ba2_mean_filter['ret'] * 252 + 0.5 * (ba2_mean_filter['ret']**2)\n",
    "ba2_mean_filter = ba2_mean_filter.rename(columns={'ret': 'ret_mu'})\n",
    "\n",
    "# calculate rolling sd for 5 year rolling NOC\n",
    "noc2_sigma = noc2.rolling('1825d').std().shift(1)\n",
    "noc2_sigma_filter = noc2_sigma[noc2_sigma.index > '2002-10-26']\n",
    "# Adjust sigma\n",
    "noc2_sigma_filter['log_ret'] = noc2_sigma_filter['log_ret'] * np.sqrt(252)\n",
    "noc2_sigma_filter = noc2_sigma_filter.rename(columns={'log_ret': 'log_ret_sig'})\n",
    "# Adjust absolute return mu\n",
    "noc2_sigma_filter['ret'] = noc2_sigma_filter['ret'] * np.sqrt(252)\n",
    "noc2_sigma_filter = noc2_sigma_filter.rename(columns={'ret': 'ret_sig'})\n",
    "\n",
    "# calculate rolling means for 5 year rolling NOC\n",
    "noc2_mu = noc2.rolling('1825d').mean().shift(1)\n",
    "noc2_mean_filter = noc2_mu[noc2_mu.index > '2002-09-22']\n",
    "# Adjust mu\n",
    "noc2_mean_filter['log_ret'] = noc2_mean_filter['log_ret'] * 252 + 0.5 * (noc2_mean_filter['log_ret']**2)\n",
    "noc2_mean_filter = noc2_mean_filter.rename(columns={'log_ret': 'log_ret_mu'})\n",
    "# Adjust absolute return sigma\n",
    "noc2_mean_filter['ret'] = noc2_mean_filter['ret'] * 252 + 0.5 * (noc2_mean_filter['ret']**2)\n",
    "noc2_mean_filter = noc2_mean_filter.rename(columns={'ret': 'ret_mu'})"
   ]
  },
  {
   "cell_type": "code",
   "execution_count": 312,
   "id": "b6cceb15",
   "metadata": {},
   "outputs": [],
   "source": [
    "# get array for all sigma and mu 5 years\n",
    "\n",
    "ba2_mu_sigma = pd.DataFrame([ba2_mean_filter.log_ret_mu, ba2_sigma_filter.log_ret_sig, \n",
    "                             ba2_mean_filter.ret_mu, ba2_sigma_filter.ret_sig]).transpose()\n",
    "noc2_mu_sigma = pd.DataFrame([noc2_mean_filter.log_ret_mu, noc2_sigma_filter.log_ret_sig, \n",
    "                              noc2_mean_filter.ret_mu, noc2_sigma_filter.ret_sig]).transpose()"
   ]
  },
  {
   "cell_type": "code",
   "execution_count": 313,
   "id": "d3f7bb90",
   "metadata": {},
   "outputs": [],
   "source": [
    "# rename port mu and sigma values and put them together for df with all metrics\n",
    "\n",
    "# Log return cols\n",
    "\n",
    "port_mu_new5 = port_mu_new5.rename(columns={'port_ges': 'port_ges_mu5'})\n",
    "\n",
    "port_sigma_new5 = port_sigma_new5.rename(columns={'port_ges': 'port_ges_std5'})\n",
    "\n",
    "# Absolute return cols\n",
    "\n",
    "port_mu_new5 = port_mu_new5.rename(columns={'port_ges_ret': 'port_ges_mu5_ret'})\n",
    "\n",
    "port_sigma_new5 = port_sigma_new5.rename(columns={'port_ges_ret': 'port_ges_std5_ret'})\n",
    "\n",
    "df_mu_sigma = pd.DataFrame([port_mu_new5.port_ges_mu5, \n",
    "                            port_sigma_new5.port_ges_std5, \n",
    "                            port_mu_new5.port_ges_mu5_ret, \n",
    "                            port_sigma_new5.port_ges_std5_ret]).transpose()"
   ]
  },
  {
   "cell_type": "code",
   "execution_count": 314,
   "id": "057e49b5",
   "metadata": {},
   "outputs": [],
   "source": [
    "# generate price list\n",
    "ba_price = ba[ba['Dates'] > '2002-10-26']['PX_LAST']\n",
    "noc_price = noc[noc['Dates'] > '2002-10-26']['PX_LAST']\n",
    "# reverse df\n",
    "ba_price = ba_price.iloc[::-1].reset_index(drop=True)\n",
    "noc_price = noc_price.iloc[::-1].reset_index(drop=True)"
   ]
  },
  {
   "cell_type": "code",
   "execution_count": 315,
   "id": "4b9bf378",
   "metadata": {},
   "outputs": [],
   "source": [
    "df_mu_sigma['VaR_5'] = ''\n",
    "\n",
    "df_mu_sigma['ES_5'] = ''"
   ]
  },
  {
   "cell_type": "code",
   "execution_count": 316,
   "id": "d29da2ec",
   "metadata": {},
   "outputs": [
    {
     "name": "stderr",
     "output_type": "stream",
     "text": [
      "/var/folders/sn/xxr4rfmj23100534fjn99hv80000gn/T/ipykernel_75076/988368624.py:9: SettingWithCopyWarning: \n",
      "A value is trying to be set on a copy of a slice from a DataFrame\n",
      "\n",
      "See the caveats in the documentation: https://pandas.pydata.org/pandas-docs/stable/user_guide/indexing.html#returning-a-view-versus-a-copy\n",
      "  df_mu_sigma['VaR_5'][i] = VaR_gbm(v0, df_mu_sigma.iloc[i]['port_ges_mu5'],\n"
     ]
    }
   ],
   "source": [
    "# VaR for window 5 years port\n",
    "\n",
    "for i in range(len(df_mu_sigma)):\n",
    "    \n",
    "    #134 * ba_price[i] + 166 * noc_price[i]\n",
    "    \n",
    "    v0 = 10000\n",
    "    \n",
    "    df_mu_sigma['VaR_5'][i] = VaR_gbm(v0, df_mu_sigma.iloc[i]['port_ges_mu5'], \n",
    "                                           df_mu_sigma.iloc[i]['port_ges_std5'], \n",
    "                                           5 / 252, 0.99) "
   ]
  },
  {
   "cell_type": "code",
   "execution_count": 317,
   "id": "65a275ef",
   "metadata": {},
   "outputs": [
    {
     "data": {
      "text/plain": [
       "[<matplotlib.lines.Line2D at 0x7fab424345b0>]"
      ]
     },
     "execution_count": 317,
     "metadata": {},
     "output_type": "execute_result"
    },
    {
     "data": {
      "image/png": "[encoded data removed]",
      "text/plain": [
       "<Figure size 432x288 with 1 Axes>"
      ]
     },
     "metadata": {
      "needs_background": "light"
     },
     "output_type": "display_data"
    }
   ],
   "source": [
    "plt.plot(df_mu_sigma['VaR_5'])"
   ]
  },
  {
   "cell_type": "code",
   "execution_count": 318,
   "id": "a83f6637",
   "metadata": {},
   "outputs": [
    {
     "name": "stderr",
     "output_type": "stream",
     "text": [
      "/var/folders/sn/xxr4rfmj23100534fjn99hv80000gn/T/ipykernel_75076/1444746781.py:9: SettingWithCopyWarning: \n",
      "A value is trying to be set on a copy of a slice from a DataFrame\n",
      "\n",
      "See the caveats in the documentation: https://pandas.pydata.org/pandas-docs/stable/user_guide/indexing.html#returning-a-view-versus-a-copy\n",
      "  df_mu_sigma['ES_5'][i] = ES_gbm(v0, df_mu_sigma.iloc[i]['port_ges_mu5'],\n"
     ]
    }
   ],
   "source": [
    "# ES for window 5 years port\n",
    "\n",
    "for i in range(len(df_mu_sigma)):\n",
    "    \n",
    "    # 134 * ba_price[i] + 166 * noc_price[i]\n",
    "    \n",
    "    v0 = 10000\n",
    "    \n",
    "    df_mu_sigma['ES_5'][i] = ES_gbm(v0, df_mu_sigma.iloc[i]['port_ges_mu5'], \n",
    "                                           df_mu_sigma.iloc[i]['port_ges_std5'], \n",
    "                                           5 / 252, 0.975) "
   ]
  },
  {
   "cell_type": "code",
   "execution_count": 319,
   "id": "d9cb99b8",
   "metadata": {},
   "outputs": [
    {
     "data": {
      "text/plain": [
       "[<matplotlib.lines.Line2D at 0x7fab433d6dc0>]"
      ]
     },
     "execution_count": 319,
     "metadata": {},
     "output_type": "execute_result"
    },
    {
     "data": {
      "image/png": "[encoded data removed]",
      "text/plain": [
       "<Figure size 432x288 with 1 Axes>"
      ]
     },
     "metadata": {
      "needs_background": "light"
     },
     "output_type": "display_data"
    }
   ],
   "source": [
    "plt.plot(df_mu_sigma['ES_5'])"
   ]
  },
  {
   "cell_type": "code",
   "execution_count": 320,
   "id": "7e40bda5",
   "metadata": {},
   "outputs": [],
   "source": [
    "v0_const = 10000"
   ]
  },
  {
   "cell_type": "code",
   "execution_count": 321,
   "id": "3d23a0dd",
   "metadata": {},
   "outputs": [],
   "source": [
    "ba2_mu_sigma['VaR_BA'] = ''\n",
    "\n",
    "ba2_mu_sigma['ES_BA'] = ''\n",
    "\n",
    "noc2_mu_sigma['VaR_NOC'] = ''\n",
    "\n",
    "noc2_mu_sigma['ES_NOC'] = ''"
   ]
  },
  {
   "cell_type": "code",
   "execution_count": 322,
   "id": "feffd364",
   "metadata": {},
   "outputs": [
    {
     "name": "stderr",
     "output_type": "stream",
     "text": [
      "/var/folders/sn/xxr4rfmj23100534fjn99hv80000gn/T/ipykernel_75076/1712544381.py:5: SettingWithCopyWarning: \n",
      "A value is trying to be set on a copy of a slice from a DataFrame\n",
      "\n",
      "See the caveats in the documentation: https://pandas.pydata.org/pandas-docs/stable/user_guide/indexing.html#returning-a-view-versus-a-copy\n",
      "  ba2_mu_sigma['VaR_BA'][i] = VaR_gbm(v0_const, ba2_mu_sigma.iloc[i]['log_ret_mu'],\n"
     ]
    }
   ],
   "source": [
    "# VaR for 5 year window BA\n",
    "\n",
    "for i in range(len(ba2_mu_sigma)):\n",
    "    \n",
    "    ba2_mu_sigma['VaR_BA'][i] = VaR_gbm(v0_const, ba2_mu_sigma.iloc[i]['log_ret_mu'], \n",
    "                                           ba2_mu_sigma.iloc[i]['log_ret_sig'], \n",
    "                                           5 / 252, 0.99) "
   ]
  },
  {
   "cell_type": "code",
   "execution_count": 323,
   "id": "b7e13e37",
   "metadata": {},
   "outputs": [
    {
     "name": "stderr",
     "output_type": "stream",
     "text": [
      "/var/folders/sn/xxr4rfmj23100534fjn99hv80000gn/T/ipykernel_75076/644155256.py:5: SettingWithCopyWarning: \n",
      "A value is trying to be set on a copy of a slice from a DataFrame\n",
      "\n",
      "See the caveats in the documentation: https://pandas.pydata.org/pandas-docs/stable/user_guide/indexing.html#returning-a-view-versus-a-copy\n",
      "  ba2_mu_sigma['ES_BA'][i] = ES_gbm(v0_const, ba2_mu_sigma.iloc[i]['log_ret_mu'],\n"
     ]
    }
   ],
   "source": [
    "# ES for 5 year window ES\n",
    "\n",
    "for i in range(len(ba2_mu_sigma)):\n",
    "    \n",
    "    ba2_mu_sigma['ES_BA'][i] = ES_gbm(v0_const, ba2_mu_sigma.iloc[i]['log_ret_mu'], \n",
    "                                           ba2_mu_sigma.iloc[i]['log_ret_sig'], \n",
    "                                           5 / 252, 0.975) "
   ]
  },
  {
   "cell_type": "code",
   "execution_count": 324,
   "id": "a79035db",
   "metadata": {},
   "outputs": [
    {
     "data": {
      "text/plain": [
       "[<matplotlib.lines.Line2D at 0x7fab6b5b7a60>]"
      ]
     },
     "execution_count": 324,
     "metadata": {},
     "output_type": "execute_result"
    },
    {
     "data": {
      "image/png": "[encoded data removed]",
      "text/plain": [
       "<Figure size 432x288 with 1 Axes>"
      ]
     },
     "metadata": {
      "needs_background": "light"
     },
     "output_type": "display_data"
    }
   ],
   "source": [
    "# BA VaR plot\n",
    "\n",
    "plt.plot(ba2_mu_sigma['VaR_BA'])"
   ]
  },
  {
   "cell_type": "code",
   "execution_count": 325,
   "id": "ee9d2ddc",
   "metadata": {},
   "outputs": [
    {
     "data": {
      "text/plain": [
       "[<matplotlib.lines.Line2D at 0x7fab6b86bfa0>]"
      ]
     },
     "execution_count": 325,
     "metadata": {},
     "output_type": "execute_result"
    },
    {
     "data": {
      "image/png": "[encoded data removed]",
      "text/plain": [
       "<Figure size 432x288 with 1 Axes>"
      ]
     },
     "metadata": {
      "needs_background": "light"
     },
     "output_type": "display_data"
    }
   ],
   "source": [
    "# BA ES plot\n",
    "\n",
    "plt.plot(ba2_mu_sigma['ES_BA'])"
   ]
  },
  {
   "cell_type": "code",
   "execution_count": 326,
   "id": "b17b3a9d",
   "metadata": {},
   "outputs": [
    {
     "name": "stderr",
     "output_type": "stream",
     "text": [
      "/var/folders/sn/xxr4rfmj23100534fjn99hv80000gn/T/ipykernel_75076/4034463293.py:5: SettingWithCopyWarning: \n",
      "A value is trying to be set on a copy of a slice from a DataFrame\n",
      "\n",
      "See the caveats in the documentation: https://pandas.pydata.org/pandas-docs/stable/user_guide/indexing.html#returning-a-view-versus-a-copy\n",
      "  noc2_mu_sigma['VaR_NOC'][i] = VaR_gbm(v0_const, noc2_mu_sigma.iloc[i]['log_ret_mu'],\n"
     ]
    }
   ],
   "source": [
    "# VaR for 5 year window BA\n",
    "\n",
    "for i in range(len(noc2_mu_sigma)):\n",
    "    \n",
    "    noc2_mu_sigma['VaR_NOC'][i] = VaR_gbm(v0_const, noc2_mu_sigma.iloc[i]['log_ret_mu'], \n",
    "                                           noc2_mu_sigma.iloc[i]['log_ret_sig'], \n",
    "                                           5 / 252, 0.99) "
   ]
  },
  {
   "cell_type": "code",
   "execution_count": 327,
   "id": "f05e43d1",
   "metadata": {},
   "outputs": [
    {
     "name": "stderr",
     "output_type": "stream",
     "text": [
      "/var/folders/sn/xxr4rfmj23100534fjn99hv80000gn/T/ipykernel_75076/3585390189.py:5: SettingWithCopyWarning: \n",
      "A value is trying to be set on a copy of a slice from a DataFrame\n",
      "\n",
      "See the caveats in the documentation: https://pandas.pydata.org/pandas-docs/stable/user_guide/indexing.html#returning-a-view-versus-a-copy\n",
      "  noc2_mu_sigma['ES_NOC'][i] = ES_gbm(v0_const, noc2_mu_sigma.iloc[i]['log_ret_mu'],\n"
     ]
    }
   ],
   "source": [
    "# ES for 5 year window ES\n",
    "\n",
    "for i in range(len(noc2_mu_sigma)):\n",
    "    \n",
    "    noc2_mu_sigma['ES_NOC'][i] = ES_gbm(v0_const, noc2_mu_sigma.iloc[i]['log_ret_mu'], \n",
    "                                           noc2_mu_sigma.iloc[i]['log_ret_sig'], \n",
    "                                           5 / 252, 0.975) "
   ]
  },
  {
   "cell_type": "code",
   "execution_count": 328,
   "id": "9aa4118c",
   "metadata": {},
   "outputs": [
    {
     "data": {
      "text/plain": [
       "[<matplotlib.lines.Line2D at 0x7fab4322ae50>]"
      ]
     },
     "execution_count": 328,
     "metadata": {},
     "output_type": "execute_result"
    },
    {
     "data": {
      "image/png": "[encoded data removed]",
      "text/plain": [
       "<Figure size 432x288 with 1 Axes>"
      ]
     },
     "metadata": {
      "needs_background": "light"
     },
     "output_type": "display_data"
    }
   ],
   "source": [
    "# BA VaR plot\n",
    "\n",
    "plt.plot(noc2_mu_sigma['VaR_NOC'])"
   ]
  },
  {
   "cell_type": "code",
   "execution_count": 329,
   "id": "d025dfab",
   "metadata": {},
   "outputs": [
    {
     "data": {
      "text/plain": [
       "[<matplotlib.lines.Line2D at 0x7fab6ba0a670>]"
      ]
     },
     "execution_count": 329,
     "metadata": {},
     "output_type": "execute_result"
    },
    {
     "data": {
      "image/png": "[encoded data removed]",
      "text/plain": [
       "<Figure size 432x288 with 1 Axes>"
      ]
     },
     "metadata": {
      "needs_background": "light"
     },
     "output_type": "display_data"
    }
   ],
   "source": [
    "# BA ES plot\n",
    "\n",
    "plt.plot(noc2_mu_sigma['ES_NOC'])"
   ]
  },
  {
   "cell_type": "markdown",
   "id": "ab129019",
   "metadata": {},
   "source": [
    "# 3.)"
   ]
  },
  {
   "cell_type": "code",
   "execution_count": 338,
   "id": "3d757ef1",
   "metadata": {},
   "outputs": [],
   "source": [
    "df_mu_sigma['VaR_5_abs'] = ''\n",
    "\n",
    "df_mu_sigma['ES_5_abs'] = ''"
   ]
  },
  {
   "cell_type": "code",
   "execution_count": 331,
   "id": "8677a7c7",
   "metadata": {},
   "outputs": [
    {
     "name": "stderr",
     "output_type": "stream",
     "text": [
      "/var/folders/sn/xxr4rfmj23100534fjn99hv80000gn/T/ipykernel_75076/2587992924.py:9: SettingWithCopyWarning: \n",
      "A value is trying to be set on a copy of a slice from a DataFrame\n",
      "\n",
      "See the caveats in the documentation: https://pandas.pydata.org/pandas-docs/stable/user_guide/indexing.html#returning-a-view-versus-a-copy\n",
      "  df_mu_sigma['VaR_5_abs'][i] = VaR_gbm(v0, df_mu_sigma.iloc[i]['port_ges_mu5_ret'],\n"
     ]
    }
   ],
   "source": [
    "# VaR for window 5 years portfolio\n",
    "\n",
    "for i in range(len(df_mu_sigma)):\n",
    "    \n",
    "    #134 * ba_price[i] + 166 * noc_price[i]\n",
    "    \n",
    "    v0 = 10000\n",
    "    \n",
    "    df_mu_sigma['VaR_5_abs'][i] = VaR_gbm(v0, df_mu_sigma.iloc[i]['port_ges_mu5_ret'], \n",
    "                                           df_mu_sigma.iloc[i]['port_ges_std5_ret'], \n",
    "                                           5 / 252, 0.99) "
   ]
  },
  {
   "cell_type": "code",
   "execution_count": 332,
   "id": "166199ee",
   "metadata": {},
   "outputs": [
    {
     "data": {
      "text/plain": [
       "[<matplotlib.lines.Line2D at 0x7fab6bb83400>]"
      ]
     },
     "execution_count": 332,
     "metadata": {},
     "output_type": "execute_result"
    },
    {
     "data": {
      "image/png": "[encoded data removed]",
      "text/plain": [
       "<Figure size 432x288 with 1 Axes>"
      ]
     },
     "metadata": {
      "needs_background": "light"
     },
     "output_type": "display_data"
    }
   ],
   "source": [
    "# PORT VaR plot\n",
    "\n",
    "plt.plot(df_mu_sigma['VaR_5_abs'])"
   ]
  },
  {
   "cell_type": "code",
   "execution_count": 341,
   "id": "b47430d3",
   "metadata": {},
   "outputs": [
    {
     "name": "stderr",
     "output_type": "stream",
     "text": [
      "/var/folders/sn/xxr4rfmj23100534fjn99hv80000gn/T/ipykernel_75076/3674476592.py:5: SettingWithCopyWarning: \n",
      "A value is trying to be set on a copy of a slice from a DataFrame\n",
      "\n",
      "See the caveats in the documentation: https://pandas.pydata.org/pandas-docs/stable/user_guide/indexing.html#returning-a-view-versus-a-copy\n",
      "  df_mu_sigma['ES_5_abs'][i] = ES_gbm(v0_const, df_mu_sigma.iloc[i]['port_ges_mu5_ret'],\n"
     ]
    }
   ],
   "source": [
    "# ES for 5 year window ES\n",
    "\n",
    "for i in range(len(df_mu_sigma)):\n",
    "    \n",
    "    df_mu_sigma['ES_5_abs'][i] = ES_gbm(v0_const, df_mu_sigma.iloc[i]['port_ges_mu5_ret'], \n",
    "                                           df_mu_sigma.iloc[i]['port_ges_std5_ret'], \n",
    "                                           5 / 252, 0.975) "
   ]
  },
  {
   "cell_type": "code",
   "execution_count": 342,
   "id": "eee543fc",
   "metadata": {},
   "outputs": [
    {
     "data": {
      "text/plain": [
       "[<matplotlib.lines.Line2D at 0x7fab71bda9d0>]"
      ]
     },
     "execution_count": 342,
     "metadata": {},
     "output_type": "execute_result"
    },
    {
     "data": {
      "image/png": "[encoded data removed]",
      "text/plain": [
       "<Figure size 432x288 with 1 Axes>"
      ]
     },
     "metadata": {
      "needs_background": "light"
     },
     "output_type": "display_data"
    }
   ],
   "source": [
    "# PORT ES plot\n",
    "\n",
    "plt.plot(df_mu_sigma['ES_5_abs'])"
   ]
  },
  {
   "cell_type": "code",
   "execution_count": 333,
   "id": "cccf1e80",
   "metadata": {},
   "outputs": [],
   "source": [
    "ba2_mu_sigma['VaR_BA_abs'] = ''\n",
    "\n",
    "ba2_mu_sigma['ES_BA_abs'] = ''\n",
    "\n",
    "noc2_mu_sigma['VaR_NOC_abs'] = ''\n",
    "\n",
    "noc2_mu_sigma['ES_NOC_abs'] = ''"
   ]
  },
  {
   "cell_type": "code",
   "execution_count": 343,
   "id": "4c4fe93c",
   "metadata": {},
   "outputs": [
    {
     "name": "stderr",
     "output_type": "stream",
     "text": [
      "/var/folders/sn/xxr4rfmj23100534fjn99hv80000gn/T/ipykernel_75076/2685555433.py:5: SettingWithCopyWarning: \n",
      "A value is trying to be set on a copy of a slice from a DataFrame\n",
      "\n",
      "See the caveats in the documentation: https://pandas.pydata.org/pandas-docs/stable/user_guide/indexing.html#returning-a-view-versus-a-copy\n",
      "  ba2_mu_sigma['VaR_BA_abs'][i] = VaR_gbm(v0_const, ba2_mu_sigma.iloc[i]['ret_mu'],\n"
     ]
    }
   ],
   "source": [
    "# VaR for 5 year window BA\n",
    "\n",
    "for i in range(len(ba2_mu_sigma)):\n",
    "    \n",
    "    ba2_mu_sigma['VaR_BA_abs'][i] = VaR_gbm(v0_const, ba2_mu_sigma.iloc[i]['ret_mu'], \n",
    "                                           ba2_mu_sigma.iloc[i]['ret_sig'], \n",
    "                                           5 / 252, 0.99) "
   ]
  },
  {
   "cell_type": "code",
   "execution_count": 344,
   "id": "2436a34c",
   "metadata": {},
   "outputs": [
    {
     "data": {
      "text/plain": [
       "[<matplotlib.lines.Line2D at 0x7fab6bd7de50>]"
      ]
     },
     "execution_count": 344,
     "metadata": {},
     "output_type": "execute_result"
    },
    {
     "data": {
      "image/png": "[encoded data removed]",
      "text/plain": [
       "<Figure size 432x288 with 1 Axes>"
      ]
     },
     "metadata": {
      "needs_background": "light"
     },
     "output_type": "display_data"
    }
   ],
   "source": [
    "plt.plot(ba2_mu_sigma['VaR_BA_abs'])"
   ]
  },
  {
   "cell_type": "code",
   "execution_count": 346,
   "id": "a4fa86cf",
   "metadata": {},
   "outputs": [
    {
     "name": "stderr",
     "output_type": "stream",
     "text": [
      "/var/folders/sn/xxr4rfmj23100534fjn99hv80000gn/T/ipykernel_75076/3655324786.py:5: SettingWithCopyWarning: \n",
      "A value is trying to be set on a copy of a slice from a DataFrame\n",
      "\n",
      "See the caveats in the documentation: https://pandas.pydata.org/pandas-docs/stable/user_guide/indexing.html#returning-a-view-versus-a-copy\n",
      "  ba2_mu_sigma['ES_BA_abs'][i] = ES_gbm(v0_const, ba2_mu_sigma.iloc[i]['ret_mu'],\n"
     ]
    }
   ],
   "source": [
    "# ES for 5 year window BA\n",
    "\n",
    "for i in range(len(ba2_mu_sigma)):\n",
    "    \n",
    "    ba2_mu_sigma['ES_BA_abs'][i] = ES_gbm(v0_const, ba2_mu_sigma.iloc[i]['ret_mu'], \n",
    "                                           ba2_mu_sigma.iloc[i]['ret_sig'], \n",
    "                                           5 / 252, 0.975) "
   ]
  },
  {
   "cell_type": "code",
   "execution_count": 348,
   "id": "89df1f2a",
   "metadata": {},
   "outputs": [
    {
     "data": {
      "text/plain": [
       "[<matplotlib.lines.Line2D at 0x7fab6be1c430>]"
      ]
     },
     "execution_count": 348,
     "metadata": {},
     "output_type": "execute_result"
    },
    {
     "data": {
      "image/png": "[encoded data removed]",
      "text/plain": [
       "<Figure size 432x288 with 1 Axes>"
      ]
     },
     "metadata": {
      "needs_background": "light"
     },
     "output_type": "display_data"
    }
   ],
   "source": [
    "plt.plot(ba2_mu_sigma['ES_BA_abs'])"
   ]
  },
  {
   "cell_type": "code",
   "execution_count": 353,
   "id": "50d4b5b9",
   "metadata": {},
   "outputs": [
    {
     "name": "stderr",
     "output_type": "stream",
     "text": [
      "/var/folders/sn/xxr4rfmj23100534fjn99hv80000gn/T/ipykernel_75076/2701770755.py:5: SettingWithCopyWarning: \n",
      "A value is trying to be set on a copy of a slice from a DataFrame\n",
      "\n",
      "See the caveats in the documentation: https://pandas.pydata.org/pandas-docs/stable/user_guide/indexing.html#returning-a-view-versus-a-copy\n",
      "  noc2_mu_sigma['VaR_NOC_abs'][i] = VaR_gbm(v0_const, noc2_mu_sigma.iloc[i]['ret_mu'],\n"
     ]
    }
   ],
   "source": [
    "# VaR for 5 year window NOC\n",
    "\n",
    "for i in range(len(noc2_mu_sigma)):\n",
    "    \n",
    "    noc2_mu_sigma['VaR_NOC_abs'][i] = VaR_gbm(v0_const, noc2_mu_sigma.iloc[i]['ret_mu'], \n",
    "                                           noc2_mu_sigma.iloc[i]['ret_sig'], \n",
    "                                           5 / 252, 0.99) "
   ]
  },
  {
   "cell_type": "code",
   "execution_count": 354,
   "id": "a7740b5f",
   "metadata": {},
   "outputs": [
    {
     "data": {
      "text/plain": [
       "[<matplotlib.lines.Line2D at 0x7fab43bd00d0>]"
      ]
     },
     "execution_count": 354,
     "metadata": {},
     "output_type": "execute_result"
    },
    {
     "data": {
      "image/png": "[encoded data removed]",
      "text/plain": [
       "<Figure size 432x288 with 1 Axes>"
      ]
     },
     "metadata": {
      "needs_background": "light"
     },
     "output_type": "display_data"
    }
   ],
   "source": [
    "plt.plot(noc2_mu_sigma['VaR_NOC_abs'])"
   ]
  },
  {
   "cell_type": "code",
   "execution_count": 356,
   "id": "4eaf9148",
   "metadata": {},
   "outputs": [
    {
     "name": "stderr",
     "output_type": "stream",
     "text": [
      "/var/folders/sn/xxr4rfmj23100534fjn99hv80000gn/T/ipykernel_75076/4160660047.py:5: SettingWithCopyWarning: \n",
      "A value is trying to be set on a copy of a slice from a DataFrame\n",
      "\n",
      "See the caveats in the documentation: https://pandas.pydata.org/pandas-docs/stable/user_guide/indexing.html#returning-a-view-versus-a-copy\n",
      "  noc2_mu_sigma['ES_NOC_abs'][i] = ES_gbm(v0_const, noc2_mu_sigma.iloc[i]['ret_mu'],\n"
     ]
    }
   ],
   "source": [
    "# ES for 5 year window NOC\n",
    "\n",
    "for i in range(len(noc2_mu_sigma)):\n",
    "    \n",
    "    noc2_mu_sigma['ES_NOC_abs'][i] = ES_gbm(v0_const, noc2_mu_sigma.iloc[i]['ret_mu'], \n",
    "                                           noc2_mu_sigma.iloc[i]['ret_sig'], \n",
    "                                           5 / 252, 0.975) "
   ]
  },
  {
   "cell_type": "code",
   "execution_count": 357,
   "id": "782dc9f1",
   "metadata": {},
   "outputs": [
    {
     "data": {
      "text/plain": [
       "[<matplotlib.lines.Line2D at 0x7fab5152ffd0>]"
      ]
     },
     "execution_count": 357,
     "metadata": {},
     "output_type": "execute_result"
    },
    {
     "data": {
      "image/png": "[encoded data removed]",
      "text/plain": [
       "<Figure size 432x288 with 1 Axes>"
      ]
     },
     "metadata": {
      "needs_background": "light"
     },
     "output_type": "display_data"
    }
   ],
   "source": [
    "plt.plot(noc2_mu_sigma['ES_NOC_abs'])"
   ]
  }
 ],
 "metadata": {
  "kernelspec": {
   "display_name": "Python 3 (ipykernel)",
   "language": "python",
   "name": "python3"
  },
  "language_info": {
   "codemirror_mode": {
    "name": "ipython",
    "version": 3
   },
   "file_extension": ".py",
   "mimetype": "text/x-python",
   "name": "python",
   "nbconvert_exporter": "python",
   "pygments_lexer": "ipython3",
   "version": "3.9.7"
  }
 },
 "nbformat": 4,
 "nbformat_minor": 5
}
